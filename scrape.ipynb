{
 "cells": [
  {
   "cell_type": "code",
   "execution_count": 1,
   "metadata": {},
   "outputs": [
    {
     "name": "stdout",
     "output_type": "stream",
     "text": [
      "Scraping 52 navigation pages.\n"
     ]
    }
   ],
   "source": [
    "from bs4 import BeautifulSoup\n",
    "import urllib\n",
    "import urllib2\n",
    "import re\n",
    "\n",
    "#determine number of pages to scrape links from\n",
    "url = urllib2.urlopen('https://www.whitehouse.gov/briefing-room/speeches-and-remarks')\n",
    "\n",
    "content = url.read()\n",
    "soup = BeautifulSoup(content, \"lxml\")\n",
    "\n",
    "number_of_pages = str(soup.find_all('li', class_='pager-current'))\n",
    "number_of_pages = re.findall(r'\\b\\d+\\b', number_of_pages)[1]\n",
    "\n",
    "print \"Scraping \" + str(number_of_pages) + \" navigation pages.\""
   ]
  },
  {
   "cell_type": "code",
   "execution_count": 2,
   "metadata": {},
   "outputs": [
    {
     "name": "stdout",
     "output_type": "stream",
     "text": [
      "['https://www.whitehouse.gov/briefing-room/speeches-and-remarks?term_node_tid_depth=31&page=0', 'https://www.whitehouse.gov/briefing-room/speeches-and-remarks?term_node_tid_depth=31&page=1', 'https://www.whitehouse.gov/briefing-room/speeches-and-remarks?term_node_tid_depth=31&page=2', 'https://www.whitehouse.gov/briefing-room/speeches-and-remarks?term_node_tid_depth=31&page=3', 'https://www.whitehouse.gov/briefing-room/speeches-and-remarks?term_node_tid_depth=31&page=4']\n"
     ]
    }
   ],
   "source": [
    "talk_list = {}\n",
    "\n",
    "pages_to_scrape = []\n",
    "\n",
    "#change end of range to int(number_of_pages) when wanting to scrape all (that will be a doozy)\n",
    "for number in range(0,5):\n",
    "    base = 'https://www.whitehouse.gov/briefing-room/speeches-and-remarks?term_node_tid_depth=31&page='\n",
    "    page_url = base + str(number)\n",
    "    \n",
    "    pages_to_scrape.append(page_url)\n",
    "    \n",
    "    \n",
    "print pages_to_scrape"
   ]
  },
  {
   "cell_type": "code",
   "execution_count": 5,
   "metadata": {},
   "outputs": [],
   "source": [
    "for page in pages_to_scrape:\n",
    "    \n",
    "    page_url = urllib2.urlopen(page)\n",
    "    page_content = page_url.read()\n",
    "    page_soup = BeautifulSoup(page_content, 'lxml')    \n",
    "            \n",
    "    for link in page_soup.find_all('h3', class_='field-content'):\n",
    "        \n",
    "        if \"Vice President\" in str(link.contents[0]):\n",
    "            continue\n",
    "            \n",
    "        else:\n",
    "            rel = str(link.contents[0].get('href'))\n",
    "            base = 'https://whitehouse.gov'\n",
    "            talk_list[str(link.contents[0].contents)] = {}\n",
    "            talk_list[str(link.contents[0].contents)]['url'] = base + rel\n",
    "            \n",
    "            #uncomment when updating scraper(otherwise will take forever to update)\n",
    "            talk_url = urllib2.urlopen(base + rel)\n",
    "            talk_content = talk_url.read()\n",
    "            talk_soup = BeautifulSoup(talk_content)\n",
    "            \n",
    "            talk = talk_soup.find_all('div', class_='field-items')\n",
    "            \n",
    "            talk_list[str(link.contents[0].contents)]['content'] = str(talk)\n",
    "            \n",
    "            "
   ]
  },
  {
   "cell_type": "code",
   "execution_count": 7,
   "metadata": {
    "collapsed": true
   },
   "outputs": [],
   "source": [
    "import os, csv\n",
    "import json\n",
    "\n",
    "with open('content.csv','w') as toWrite:\n",
    "    writer = csv.writer(toWrite, delimiter=',')\n",
    "    writer.writerow(['name','url','content'])\n",
    "    for a in talk_list.keys():\n",
    "        writer.writerow([a.encode('utf-8'), talk_list[a]['url'].encode('utf-8'), talk_list[a]['content'].encode('latin-1').decode('utf-8')])\n",
    "\n",
    "#uncomment when outside firewall\n",
    "output = open('content.txt','w')\n",
    "\n",
    "output.write(str(talk_list))\n",
    "\n",
    "output.close()"
   ]
  }
 ],
 "metadata": {
  "kernelspec": {
   "display_name": "Python 2",
   "language": "python",
   "name": "python2"
  },
  "language_info": {
   "codemirror_mode": {
    "name": "ipython",
    "version": 2
   },
   "file_extension": ".py",
   "mimetype": "text/x-python",
   "name": "python",
   "nbconvert_exporter": "python",
   "pygments_lexer": "ipython2",
   "version": "2.7.13"
  }
 },
 "nbformat": 4,
 "nbformat_minor": 2
}
